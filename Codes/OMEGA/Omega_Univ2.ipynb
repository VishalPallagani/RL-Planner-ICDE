{
 "cells": [
  {
   "cell_type": "code",
   "execution_count": null,
   "metadata": {
    "colab": {
     "base_uri": "https://localhost:8080/",
     "height": 170
    },
    "executionInfo": {
     "elapsed": 4133,
     "status": "ok",
     "timestamp": 1601397004639,
     "user": {
      "displayName": "Baljinder Smagh",
      "photoUrl": "",
      "userId": "16670751434212058453"
     },
     "user_tz": 240
    },
    "id": "yj64l5ZVRAf6",
    "outputId": "70469c5e-98e5-4660-ed6b-8b7fe32e140c",
    "tags": []
   },
   "outputs": [],
   "source": [
    "import pandas as pd\n",
    "import numpy as np\n",
    "from ast import literal_eval\n",
    "import copy\n",
    "import itertools\n",
    "from tqdm import tqdm\n",
    "from textblob import TextBlob\n",
    "import nltk\n",
    "nltk.download('punkt')\n",
    "nltk.download('brown')\n",
    "nltk.download('averaged_perceptron_tagger')\n",
    "nltk.download('stopwords')\n",
    "from nltk.corpus import stopwords\n",
    "stop = stopwords.words('english')\n",
    "import networkx as nx\n",
    "import matplotlib.pyplot as plt\n",
    "from scipy import spatial\n",
    "%matplotlib inline\n",
    "import math\n",
    "import random \n",
    "from scipy.spatial import distance\n",
    "import time\n",
    "import random\n",
    "import pickle as pk\n",
    "import multiprocessing\n",
    "import ast\n",
    "from itertools import permutations "
   ]
  },
  {
   "cell_type": "code",
   "execution_count": null,
   "metadata": {
    "executionInfo": {
     "elapsed": 929,
     "status": "ok",
     "timestamp": 1601397035527,
     "user": {
      "displayName": "Baljinder Smagh",
      "photoUrl": "",
      "userId": "16670751434212058453"
     },
     "user_tz": 240
    },
    "id": "p-7A7U39RVGJ"
   },
   "outputs": [],
   "source": [
    "Univ2_data=pd.read_csv('Univ2_dataset.csv',encoding = \"ISO-8859-1\")"
   ]
  },
  {
   "cell_type": "code",
   "execution_count": null,
   "metadata": {
    "colab": {
     "base_uri": "https://localhost:8080/",
     "height": 255
    },
    "executionInfo": {
     "elapsed": 358,
     "status": "ok",
     "timestamp": 1601397041539,
     "user": {
      "displayName": "Baljinder Smagh",
      "photoUrl": "",
      "userId": "16670751434212058453"
     },
     "user_tz": 240
    },
    "id": "MDQJkEpJRdzN",
    "outputId": "80b9473e-c6ef-4828-afef-098f86b4ac07",
    "tags": []
   },
   "outputs": [],
   "source": [
    "Univ2_data.info()"
   ]
  },
  {
   "cell_type": "code",
   "execution_count": null,
   "metadata": {
    "executionInfo": {
     "elapsed": 353,
     "status": "ok",
     "timestamp": 1601397045885,
     "user": {
      "displayName": "Baljinder Smagh",
      "photoUrl": "",
      "userId": "16670751434212058453"
     },
     "user_tz": 240
    },
    "id": "UEsMhexQRgwI"
   },
   "outputs": [],
   "source": [
    "#removing two not required rows\n",
    "Univ2_data.drop([20,23],inplace=True)"
   ]
  },
  {
   "cell_type": "code",
   "execution_count": null,
   "metadata": {
    "executionInfo": {
     "elapsed": 422,
     "status": "ok",
     "timestamp": 1601397047876,
     "user": {
      "displayName": "Baljinder Smagh",
      "photoUrl": "",
      "userId": "16670751434212058453"
     },
     "user_tz": 240
    },
    "id": "jECzIS1cw8Wd"
   },
   "outputs": [],
   "source": [
    "#removing all the department number starting with 1\n",
    "Univ2_data.drop(Univ2_data[Univ2_data['DepartmentNumber'].str.contains('^1')].index, inplace = True) "
   ]
  },
  {
   "cell_type": "code",
   "execution_count": null,
   "metadata": {
    "colab": {
     "base_uri": "https://localhost:8080/",
     "height": 663
    },
    "executionInfo": {
     "elapsed": 702,
     "status": "ok",
     "timestamp": 1601397049999,
     "user": {
      "displayName": "Baljinder Smagh",
      "photoUrl": "",
      "userId": "16670751434212058453"
     },
     "user_tz": 240
    },
    "id": "8kLWwOn7w_Or",
    "outputId": "e5f54fac-fe41-4f13-dbd1-68180c1cdd27"
   },
   "outputs": [],
   "source": [
    "#checking for the department number if all the numbers starting with 1 are not present\n",
    "Univ2_data['DepartmentNumber'].str.contains('^1', case=False)"
   ]
  },
  {
   "cell_type": "code",
   "execution_count": null,
   "metadata": {
    "executionInfo": {
     "elapsed": 229,
     "status": "ok",
     "timestamp": 1601397055548,
     "user": {
      "displayName": "Baljinder Smagh",
      "photoUrl": "",
      "userId": "16670751434212058453"
     },
     "user_tz": 240
    },
    "id": "g1E7cgpQRhGy"
   },
   "outputs": [],
   "source": [
    "#removing the duplicates rows based on course number\n",
    "Univ2_data.drop_duplicates(subset=['course_number'],inplace=True)"
   ]
  },
  {
   "cell_type": "code",
   "execution_count": null,
   "metadata": {
    "executionInfo": {
     "elapsed": 278,
     "status": "ok",
     "timestamp": 1601397057065,
     "user": {
      "displayName": "Baljinder Smagh",
      "photoUrl": "",
      "userId": "16670751434212058453"
     },
     "user_tz": 240
    },
    "id": "OjV6Lvs3RmSS"
   },
   "outputs": [],
   "source": [
    "#to reset the index\n",
    "Univ2_data.reset_index(drop=True,inplace=True)"
   ]
  },
  {
   "cell_type": "code",
   "execution_count": null,
   "metadata": {
    "colab": {
     "base_uri": "https://localhost:8080/",
     "height": 204
    },
    "executionInfo": {
     "elapsed": 285,
     "status": "ok",
     "timestamp": 1601397058417,
     "user": {
      "displayName": "Baljinder Smagh",
      "photoUrl": "",
      "userId": "16670751434212058453"
     },
     "user_tz": 240
    },
    "id": "cSjgp5O0RokB",
    "outputId": "c199842f-2ab7-4710-93d9-d05009603388"
   },
   "outputs": [],
   "source": [
    "Univ2_data.head()"
   ]
  },
  {
   "cell_type": "code",
   "execution_count": null,
   "metadata": {
    "colab": {
     "base_uri": "https://localhost:8080/",
     "height": 34
    },
    "executionInfo": {
     "elapsed": 414,
     "status": "ok",
     "timestamp": 1601397061401,
     "user": {
      "displayName": "Baljinder Smagh",
      "photoUrl": "",
      "userId": "16670751434212058453"
     },
     "user_tz": 240
    },
    "id": "dZd5nU-NRrGT",
    "outputId": "836be670-4239-44a0-afb9-fac60320bb3a"
   },
   "outputs": [],
   "source": [
    "Univ2_data[Univ2_data['course_number']=='STATS 306B'].index"
   ]
  },
  {
   "cell_type": "code",
   "execution_count": null,
   "metadata": {
    "executionInfo": {
     "elapsed": 251,
     "status": "ok",
     "timestamp": 1601397305212,
     "user": {
      "displayName": "Baljinder Smagh",
      "photoUrl": "",
      "userId": "16670751434212058453"
     },
     "user_tz": 240
    },
    "id": "V3ni_nlZRwTf"
   },
   "outputs": [],
   "source": [
    "#creating the six lists with courses denoting six different areas required to complete the degree\n",
    "data_science_math_list=['STATS 200','STATS 300A','STATS 203','STATS 305A','STATS 315A','CME 302','CME 308']\n",
    "data_science_experimentative_elective=['STATS 263','ECON 271','MS&E 327']\n",
    "data_science_software_list=['CME 212','CME 213','CME 305','CME 307','CME 323','CME 364A','CS 246']\n",
    "data_science_machine_learning_list=['STATS 231','STATS 315B','CS 221','CS 224N','CS 230','CS 231N','CS 234','CS 236']\n",
    "data_science_practical_list=['STATS 299','STATS 390']\n",
    "data_science_elective_list=['STATS 306B','CS 228','CS 229','CME 211','MATH 21','STATS 305','ECON 270',\n",
    " 'CME 200','STATS 204']"
   ]
  },
  {
   "cell_type": "code",
   "execution_count": null,
   "metadata": {
    "executionInfo": {
     "elapsed": 380,
     "status": "ok",
     "timestamp": 1601397306998,
     "user": {
      "displayName": "Baljinder Smagh",
      "photoUrl": "",
      "userId": "16670751434212058453"
     },
     "user_tz": 240
    },
    "id": "mCCqs1B2Unb7"
   },
   "outputs": [],
   "source": [
    "data_science_core_list=data_science_math_list + data_science_experimentative_elective + data_science_software_list + data_science_machine_learning_list + data_science_practical_list"
   ]
  },
  {
   "cell_type": "code",
   "execution_count": null,
   "metadata": {
    "colab": {
     "base_uri": "https://localhost:8080/",
     "height": 34
    },
    "executionInfo": {
     "elapsed": 510,
     "status": "ok",
     "timestamp": 1601397309096,
     "user": {
      "displayName": "Baljinder Smagh",
      "photoUrl": "",
      "userId": "16670751434212058453"
     },
     "user_tz": 240
    },
    "id": "yPbsQuM2Uytm",
    "outputId": "3d9c8820-3e28-4965-9091-614d931a6b9b"
   },
   "outputs": [],
   "source": [
    "len(data_science_core_list)"
   ]
  },
  {
   "cell_type": "code",
   "execution_count": null,
   "metadata": {
    "executionInfo": {
     "elapsed": 289,
     "status": "ok",
     "timestamp": 1601397396805,
     "user": {
      "displayName": "Baljinder Smagh",
      "photoUrl": "",
      "userId": "16670751434212058453"
     },
     "user_tz": 240
    },
    "id": "jMkOSnbCR5mr"
   },
   "outputs": [],
   "source": [
    "#creating the prereq dict by checking from univ-2 website\n",
    "prereq_dict_3={'CME 212': [['CME 200', 'CME 211']],\n",
    " 'CME 213': [],\n",
    " 'CME 302': [],\n",
    " 'CME 305': [],\n",
    " 'CME 308': [],\n",
    " 'CME 323': [],\n",
    " 'CME 364A': [],\n",
    " 'CS 221': [],\n",
    " 'CS 224N': ['CS 221', 'CS 229'],\n",
    " 'CS 230': [],\n",
    " 'CS 231N': [['CS 229', 'MATH 21']],\n",
    " 'CS 234': ['CS 229'],\n",
    " 'CS 236': ['CS 221', 'CS 228', 'CS 229', 'CS 230'],\n",
    " 'CS 246': [],\n",
    " 'ECON 271': ['ECON 270'],\n",
    " 'MS&E 327': [],\n",
    " 'STATS 200': [],\n",
    " 'STATS 203': [],\n",
    " 'STATS 204': [],\n",
    " 'STATS 231': [],\n",
    " 'STATS 299': [],\n",
    " 'STATS 305A': [],\n",
    " 'STATS 315A': ['STATS 305','STATS 306B'],\n",
    " 'STATS 315B': [],\n",
    " 'STATS 390': []}"
   ]
  },
  {
   "cell_type": "code",
   "execution_count": null,
   "metadata": {
    "executionInfo": {
     "elapsed": 509,
     "status": "ok",
     "timestamp": 1601397400004,
     "user": {
      "displayName": "Baljinder Smagh",
      "photoUrl": "",
      "userId": "16670751434212058453"
     },
     "user_tz": 240
    },
    "id": "L93EGxZUR-Dl"
   },
   "outputs": [],
   "source": [
    "#Converting the format of title column in the dataset to string format\n",
    "Univ2_data['Title']=Univ2_data['Title'].apply(str)\n",
    "\n",
    "#cleansing of data\n",
    "def clean_text(text):\n",
    "    #Convert to lowercase to maintain consistency\n",
    "    text = text.lower()\n",
    "    return text\n",
    "\n",
    "Univ2_data['Title']=Univ2_data['Title'].apply(clean_text)"
   ]
  },
  {
   "cell_type": "code",
   "execution_count": null,
   "metadata": {
    "executionInfo": {
     "elapsed": 410,
     "status": "ok",
     "timestamp": 1601397401275,
     "user": {
      "displayName": "Baljinder Smagh",
      "photoUrl": "",
      "userId": "16670751434212058453"
     },
     "user_tz": 240
    },
    "id": "tzhNfF3kSAuz"
   },
   "outputs": [],
   "source": [
    "#Converting the format of title column in the dataset to string format\n",
    "def getting_nouns(text):\n",
    "  text_blob_object=TextBlob(text)\n",
    "\n",
    "  return text_blob_object.words\n",
    "\n",
    "\n",
    "Univ2_data['words']=Univ2_data['Title'].apply(getting_nouns)"
   ]
  },
  {
   "cell_type": "code",
   "execution_count": null,
   "metadata": {
    "executionInfo": {
     "elapsed": 315,
     "status": "ok",
     "timestamp": 1601397403144,
     "user": {
      "displayName": "Baljinder Smagh",
      "photoUrl": "",
      "userId": "16670751434212058453"
     },
     "user_tz": 240
    },
    "id": "5xXPC50wSDgS"
   },
   "outputs": [],
   "source": [
    "#removing stopwords in nltk library\n",
    "\n",
    "\n",
    "Univ2_data['words'] = Univ2_data['words'].apply(lambda x:[item for item in x if item not in stop])\n",
    "#converting words column from the dataset into a single list\n",
    "list_of_topics=Univ2_data['words'].tolist()\n",
    "#converting into a single list\n",
    "merged = list(itertools.chain.from_iterable(list_of_topics))\n",
    "#removing the duplicates from the list\n",
    "top_100_topics=list(dict.fromkeys(merged))"
   ]
  },
  {
   "cell_type": "code",
   "execution_count": null,
   "metadata": {
    "colab": {
     "base_uri": "https://localhost:8080/",
     "height": 54
    },
    "executionInfo": {
     "elapsed": 356,
     "status": "ok",
     "timestamp": 1601397405223,
     "user": {
      "displayName": "Baljinder Smagh",
      "photoUrl": "",
      "userId": "16670751434212058453"
     },
     "user_tz": 240
    },
    "id": "qmlPxHGOSJi4",
    "outputId": "bfb44556-f0c4-404f-ba18-884a41576ce2",
    "tags": []
   },
   "outputs": [],
   "source": [
    "print(*top_100_topics,sep=\",\")"
   ]
  },
  {
   "cell_type": "code",
   "execution_count": null,
   "metadata": {
    "executionInfo": {
     "elapsed": 335,
     "status": "ok",
     "timestamp": 1601397406551,
     "user": {
      "displayName": "Baljinder Smagh",
      "photoUrl": "",
      "userId": "16670751434212058453"
     },
     "user_tz": 240
    },
    "id": "uGLlvJC6SMCf"
   },
   "outputs": [],
   "source": [
    "#making units dictionary to track the course and its numbers of units \n",
    "course_units_dict={}\n",
    "for i in range(len(Univ2_data['course_number'])):\n",
    "  course_units_dict[Univ2_data['course_number'][i]]=Univ2_data['UnitsMin'][i]\n",
    "\n",
    "course_units_dict['ECON 271']=3\n",
    "course_units_dict['STATS 300A']=3\n",
    "course_units_dict['STATS 390']=1\n",
    "course_units_dict['STATS 299']=2"
   ]
  },
  {
   "cell_type": "code",
   "execution_count": null,
   "metadata": {
    "colab": {
     "base_uri": "https://localhost:8080/",
     "height": 34
    },
    "executionInfo": {
     "elapsed": 335,
     "status": "ok",
     "timestamp": 1601397408496,
     "user": {
      "displayName": "Baljinder Smagh",
      "photoUrl": "",
      "userId": "16670751434212058453"
     },
     "user_tz": 240
    },
    "id": "AgNhH0nxSShL",
    "outputId": "05715c01-40d4-4b81-ee53-10c53c6de094",
    "tags": []
   },
   "outputs": [],
   "source": [
    "#Update function for feature vector update at a node\n",
    "\n",
    "def update_feature_vector(feature_vector,topic_vector,course_list):\n",
    "  for i in course_list[0]:\n",
    "    for j in range(len(topic_vector)):\n",
    "      if i==topic_vector[j]:\n",
    "         feature_vector[j]=1\n",
    "  return feature_vector \n",
    "\n",
    "#Creating the feature dictionary with course as key and course topics as values\n",
    "feature_ds_dict={}\n",
    "course_list_ds=list(Univ2_data['course_number'])\n",
    "for i in tqdm(course_list_ds):\n",
    "  temp = list(Univ2_data[Univ2_data['course_number']== i ]['words'])\n",
    "  feature_vector_ds =[0]*len(top_100_topics)\n",
    "  feature_vector_ds = update_feature_vector(feature_vector_ds,top_100_topics,temp)\n",
    "  feature_ds_dict[i]=feature_vector_ds"
   ]
  },
  {
   "cell_type": "code",
   "execution_count": null,
   "metadata": {
    "colab": {
     "base_uri": "https://localhost:8080/",
     "height": 35
    },
    "executionInfo": {
     "elapsed": 732,
     "status": "ok",
     "timestamp": 1601397164834,
     "user": {
      "displayName": "Baljinder Smagh",
      "photoUrl": "",
      "userId": "16670751434212058453"
     },
     "user_tz": 240
    },
    "id": "zi8TjO9kSWWH",
    "outputId": "b96ac30f-2848-4873-cc65-60ec958a49ac"
   },
   "outputs": [],
   "source": [
    "#printing the dictionary\n",
    "for i,j in feature_ds_dict.items():\n",
    "  print('{} : {}'.format(i,j))"
   ]
  },
  {
   "cell_type": "code",
   "execution_count": null,
   "metadata": {
    "executionInfo": {
     "elapsed": 383,
     "status": "ok",
     "timestamp": 1601397410485,
     "user": {
      "displayName": "Baljinder Smagh",
      "photoUrl": "",
      "userId": "16670751434212058453"
     },
     "user_tz": 240
    },
    "id": "bSJtYd9ySbFb"
   },
   "outputs": [],
   "source": [
    "#to compile one dictinary to distinguish between six different areas.\n",
    "data_science_dict={}\n",
    "for i in range(len(course_list_ds)):\n",
    "  key=course_list_ds[i]\n",
    "  if key in data_science_math_list:\n",
    "    data_science_dict[key]=[1,0,0,0,0,0]\n",
    "  elif key in data_science_experimentative_elective:\n",
    "    data_science_dict[key]=[0,1,0,0,0,0]\n",
    "  elif key in data_science_software_list:\n",
    "    data_science_dict[key]=[0,0,1,0,0,0]\n",
    "  elif key in data_science_machine_learning_list:\n",
    "    data_science_dict[key]=[0,0,0,1,0,0]\n",
    "  elif key in data_science_practical_list:\n",
    "    data_science_dict[key]=[0,0,0,0,1,0]\n",
    "  else:\n",
    "    data_science_dict[key]=[0,0,0,0,0,1]"
   ]
  },
  {
   "cell_type": "code",
   "execution_count": null,
   "metadata": {
    "executionInfo": {
     "elapsed": 312,
     "status": "ok",
     "timestamp": 1601397412666,
     "user": {
      "displayName": "Baljinder Smagh",
      "photoUrl": "",
      "userId": "16670751434212058453"
     },
     "user_tz": 240
    },
    "id": "1Fy8rRKgSfwq"
   },
   "outputs": [],
   "source": [
    "#creating prereq dictionary where course is key and prereqs are values\n",
    "def prereq_dict(data_dict,course_list):\n",
    "  course_dict={}\n",
    "  for i in range(len(course_list)):\n",
    "    key=course_list[i]\n",
    "    if key in data_dict:\n",
    "      course_dict[key]=data_dict.get(key)\n",
    "    else:\n",
    "      course_dict[key]=[]\n",
    "  return course_dict"
   ]
  },
  {
   "cell_type": "code",
   "execution_count": null,
   "metadata": {
    "executionInfo": {
     "elapsed": 370,
     "status": "ok",
     "timestamp": 1601397414642,
     "user": {
      "displayName": "Baljinder Smagh",
      "photoUrl": "",
      "userId": "16670751434212058453"
     },
     "user_tz": 240
    },
    "id": "S-9BSQNKSi5v"
   },
   "outputs": [],
   "source": [
    "data_science_prereq_dict=prereq_dict(prereq_dict_3,course_list_ds)"
   ]
  },
  {
   "cell_type": "code",
   "execution_count": null,
   "metadata": {
    "executionInfo": {
     "elapsed": 402,
     "status": "ok",
     "timestamp": 1601397415807,
     "user": {
      "displayName": "Baljinder Smagh",
      "photoUrl": "",
      "userId": "16670751434212058453"
     },
     "user_tz": 240
    },
    "id": "8_8V5UAeSma9"
   },
   "outputs": [],
   "source": [
    "data_science_prereq_dict['STATS 305A']=['STATS 200']"
   ]
  },
  {
   "cell_type": "code",
   "execution_count": null,
   "metadata": {
    "colab": {
     "base_uri": "https://localhost:8080/",
     "height": 265
    },
    "executionInfo": {
     "elapsed": 4766,
     "status": "ok",
     "timestamp": 1601397179446,
     "user": {
      "displayName": "Baljinder Smagh",
      "photoUrl": "",
      "userId": "16670751434212058453"
     },
     "user_tz": 240
    },
    "id": "ss5JsPQGUP_U",
    "outputId": "05ea0452-36d8-4c1a-b694-04378a19abed",
    "tags": []
   },
   "outputs": [],
   "source": [
    "edges=[]\n",
    "for course in course_list_ds:\n",
    "  #print(course)\n",
    "  if (data_science_prereq_dict[course]==[]):\n",
    "    CourseId=course_list_ds[:]\n",
    "    CourseId.remove(course)\n",
    "    #print(CourseId)\n",
    "    for i in CourseId:\n",
    "      # print(course , (i,course))\n",
    "      edges.append((i,course))\n",
    "  else:\n",
    "      if (len(data_science_prereq_dict[course])!=1 or type(data_science_prereq_dict[course][0])==str):\n",
    "        for j in data_science_prereq_dict[course]:\n",
    "          if(j== [] or j==course):\n",
    "            continue\n",
    "          else:\n",
    "            # print(course , (j,course))\n",
    "            edges.append((j, course)) \n",
    "      else:\n",
    "        l = list(permutations(data_science_prereq_dict[course][0])) \n",
    "        for k in l:\n",
    "          m=0\n",
    "          while (m in range(len(k)-1)):\n",
    "            if ((k[m],k[m+1]) in edges)==False:\n",
    "              edges.append((k[m],k[m+1]))\n",
    "            m+=1\n",
    "          if ((k[len(k)-1],course) in edges)==False:   \n",
    "            edges.append((k[len(k)-1],course))\n",
    "\n",
    "\n",
    "\n",
    "for course in course_list_ds:\n",
    "  if(data_science_prereq_dict[course]==[]):\n",
    "    edges.append(('initial' , course))\n",
    "# print(CourseId)\n",
    "# print(edges)\n",
    "       \n",
    "G = nx.DiGraph()\n",
    "G.add_edges_from(edges) \n",
    "pos = nx.spring_layout(G)\n",
    "nx.draw_networkx_nodes(G,pos, cmap=plt.get_cmap('jet'),node_size = 1000,node_color=\"lightblue\")\n",
    "nx.draw_networkx_edges(G,pos,edge_color='b', edge_cmap=plt.cm.Blues,arrows=True,arrowstyle=\"->\",arrowsize=10)\n",
    "nx.draw_networkx_labels(G,pos)\n",
    "\n",
    "plt.show()\n",
    "#pylab.show()\n",
    "print(len(edges))"
   ]
  },
  {
   "cell_type": "code",
   "execution_count": null,
   "metadata": {
    "executionInfo": {
     "elapsed": 361,
     "status": "ok",
     "timestamp": 1601397420253,
     "user": {
      "displayName": "Baljinder Smagh",
      "photoUrl": "",
      "userId": "16670751434212058453"
     },
     "user_tz": 240
    },
    "id": "Kht8R0YtVzFP"
   },
   "outputs": [],
   "source": [
    "#creating a movie id dictionary with key as course and node number as value\n",
    "movies = list(G.nodes())\n",
    "movie_ids={}\n",
    "for i,node in enumerate(G.nodes()):\n",
    "  movie_ids[node]=i"
   ]
  },
  {
   "cell_type": "code",
   "execution_count": null,
   "metadata": {
    "executionInfo": {
     "elapsed": 287,
     "status": "ok",
     "timestamp": 1601397421645,
     "user": {
      "displayName": "Baljinder Smagh",
      "photoUrl": "",
      "userId": "16670751434212058453"
     },
     "user_tz": 240
    },
    "id": "aliKqM2tV1bM"
   },
   "outputs": [],
   "source": [
    "#creating the topic dictonary with key as course name and topic as value\n",
    "topic_dict={}\n",
    "course_topics=list(Univ2_data['words'])\n",
    "for i in range(len(course_list_ds)):\n",
    "  topic_dict[course_list_ds[i]]=course_topics[i]"
   ]
  },
  {
   "cell_type": "code",
   "execution_count": null,
   "metadata": {
    "colab": {
     "base_uri": "https://localhost:8080/",
     "height": 884
    },
    "executionInfo": {
     "elapsed": 302,
     "status": "ok",
     "timestamp": 1601397423671,
     "user": {
      "displayName": "Baljinder Smagh",
      "photoUrl": "",
      "userId": "16670751434212058453"
     },
     "user_tz": 240
    },
    "id": "_M1mxAzAWKRq",
    "outputId": "96754fcc-c556-4a60-f6be-d76ff825c7d3"
   },
   "outputs": [],
   "source": [
    "topic_dict"
   ]
  },
  {
   "cell_type": "code",
   "execution_count": null,
   "metadata": {
    "executionInfo": {
     "elapsed": 276,
     "status": "ok",
     "timestamp": 1601397438311,
     "user": {
      "displayName": "Baljinder Smagh",
      "photoUrl": "",
      "userId": "16670751434212058453"
     },
     "user_tz": 240
    },
    "id": "ZLWiZvZvWycM"
   },
   "outputs": [],
   "source": [
    "#creating input sequence for omega\n",
    "\n",
    "a=random.sample(data_science_core_list,12)\n",
    "b=random.sample(data_science_elective_list,3)\n",
    "def shuffle(a,b):\n",
    "  list_of_sequences=[]\n",
    "  sequence_list=[]\n",
    "  i=0\n",
    "  while i<1000:\n",
    "    sequence_list=[i] + list(a + b)\n",
    "    list_of_sequences.append(sequence_list)\n",
    "    #to randomly select 12 core courses \n",
    "    a=random.sample(a,12)\n",
    "    #to randonly select the 3 courses from  the elective list\n",
    "    b=random.sample(data_science_elective_list,3)\n",
    "    sequence_list=[]\n",
    "    i=i+1\n",
    "  return list_of_sequences"
   ]
  },
  {
   "cell_type": "code",
   "execution_count": null,
   "metadata": {
    "executionInfo": {
     "elapsed": 239,
     "status": "ok",
     "timestamp": 1601397440206,
     "user": {
      "displayName": "Baljinder Smagh",
      "photoUrl": "",
      "userId": "16670751434212058453"
     },
     "user_tz": 240
    },
    "id": "x8DlS13CXFvl"
   },
   "outputs": [],
   "source": [
    "list_sequences=shuffle(a,b)"
   ]
  },
  {
   "cell_type": "code",
   "execution_count": null,
   "metadata": {
    "colab": {
     "base_uri": "https://localhost:8080/",
     "height": 1000
    },
    "executionInfo": {
     "elapsed": 625,
     "status": "ok",
     "timestamp": 1601397441851,
     "user": {
      "displayName": "Baljinder Smagh",
      "photoUrl": "",
      "userId": "16670751434212058453"
     },
     "user_tz": 240
    },
    "id": "gau0YYDkXJP2",
    "outputId": "df8473b9-1dff-471c-829e-fb5351072504"
   },
   "outputs": [],
   "source": [
    "list_sequences"
   ]
  },
  {
   "cell_type": "code",
   "execution_count": null,
   "metadata": {
    "colab": {
     "base_uri": "https://localhost:8080/",
     "height": 1000
    },
    "executionInfo": {
     "elapsed": 82233,
     "status": "ok",
     "timestamp": 1601397527112,
     "user": {
      "displayName": "Baljinder Smagh",
      "photoUrl": "",
      "userId": "16670751434212058453"
     },
     "user_tz": 240
    },
    "id": "1zd0nVLTWOt6",
    "outputId": "968516f2-0763-45a2-ce5c-9430825fe751",
    "scrolled": true,
    "tags": []
   },
   "outputs": [],
   "source": [
    "# split the sequence of a user into two sequences one to add to the graph and the other to use it as ground truth for evaluation\n",
    "def divide_test(test_user_sequence):\n",
    "    user_id = test_user_sequence[0]\n",
    "    items_in_sequence = test_user_sequence[1:]\n",
    "    l = len(items_in_sequence)//2\n",
    "    previous = items_in_sequence[:l]\n",
    "\n",
    "    left = items_in_sequence[l:]\n",
    "\n",
    "    return user_id , previous , left\n",
    "\n",
    "def compute_edges(gra, sequence):\n",
    "    #start_time = time.time()\n",
    "    SG= nx.DiGraph()\n",
    "    SG.add_nodes_from(sequence)\n",
    "\n",
    "    x=gra.subgraph(sequence)\n",
    "\n",
    "    for i in range(0,len(sequence)):\n",
    "        for p in range(i, len(sequence)):\n",
    "            if (sequence[i],sequence[p]) in x.edges():\n",
    "                SG.add_edge(sequence[i],sequence[p], weight= x[sequence[i]][sequence[p]]['weight'])\n",
    "    #print(' compute edges seconds', time.time() - start_time)\n",
    "    return SG\n",
    "    \n",
    "\n",
    "def somme(arcs):\n",
    "    l = list(arcs.edges())\n",
    "    sum=0\n",
    "    for tup in l:\n",
    "        sum=sum + arcs[tup[0]][tup[1]]['weight']\n",
    "    return sum\n",
    "\n",
    "def utility_sum(gra,sequence):\n",
    "    return (somme(compute_edges(gra,sequence)))\n",
    "\n",
    "# For the conditional variant of OMEGA\n",
    "def noeuds(E,S):   # E is a set of tuples (l), S is a list of items (nodes)\n",
    "\n",
    "    a, b = zip(*E)\n",
    "    S =[ i for i in S ]\n",
    "    l = list(a)+list(b)\n",
    "    y= list(set(l))\n",
    "    z= list(set(y)-set(S))\n",
    "\n",
    "    return z\n",
    "\n",
    "\n",
    "def noeuds1(E):\n",
    "    a,b = zip(*E)\n",
    "    l = list(a)+list(b)\n",
    "    y= list(set(l))\n",
    "    return y\n",
    "\n",
    "def Union(E,e):\n",
    "    return E.union(e)\n",
    "\n",
    "def Union_List(lst1, lst2): \n",
    "    final_list = list(set(lst1) | set(lst2)) \n",
    "    return len(final_list)\n",
    "\n",
    "###### REORDER\n",
    "\n",
    "def REORDER(gra,structure,E,S):  # Compute sequence of items from a set of  edges E according to a graph gra\n",
    "    #np.random.seed(123)  # to have for every call of the function the same topological structure\n",
    "    # works in  k.log(k) |A|=k\n",
    "\n",
    "    A = noeuds(E,S)\n",
    "    #start_time = time.time()\n",
    "    b= sorted(A, key=lambda x: structure.index(x))\n",
    "    #print(' REORDER seconds', time.time() - start_time)\n",
    "\n",
    "    return b\n",
    "\n",
    "\n",
    "def REORDER1(gra,structure,E):  # Compute sequence of items from a set of  edges E according to a graph gra\n",
    "    #np.random.seed(123)  # to have for every call of the function the same topological structure\n",
    "    # works in  k.log(k) |A|=k\n",
    "\n",
    "    A = noeuds1(E)\n",
    "    #start_time = time.time()\n",
    "    b= sorted(A, key=lambda x: structure.index(x))\n",
    "    #print(' REORDER seconds', time.time() - start_time)\n",
    "\n",
    "    return b\n",
    "\n",
    "# OMEGA\n",
    "def OMEGA(gra,structure,  k,S):\n",
    "\n",
    "    edges = set()\n",
    "    arcs = set(gra.edges()) # set of (edges) tuples [ (0,1) , (1,2),....   ]\n",
    "    #print(len(arcs))\n",
    "    # dif = [x for x in arcs if x not in edges]\n",
    "    dif = arcs-edges\n",
    "    C=[]    #  implementing the set C and while condition\n",
    "    for e in dif:\n",
    "        #print(Union( edges,[e]))\n",
    "\n",
    "        if len(noeuds(Union( edges,[e]) ,S)) <= k:\n",
    "            C.append(e)\n",
    "    #        utilities.append (utility(gra, REORDER(gra,Union(edges,[e]))))\n",
    "\n",
    "\n",
    "    while C :\n",
    "        maximum = -1   # searching in C the edge that will maximizes the utility function\n",
    "        for i in C:\n",
    "            value  = utility_sum(gra, REORDER1(gra,structure, Union(edges,[i]) ) )\n",
    "            #print('utility', value)\n",
    "            if maximum < value:\n",
    "                maximum= value\n",
    "                tup= i # the edge to add with the maximum utility\n",
    "        \n",
    "        edges.add(tup)\n",
    "\n",
    "#print(edges)\n",
    "        if len(noeuds(edges,S )) ==k:\n",
    "                return  REORDER( gra,structure, edges,S  )\n",
    "\n",
    "        dif = arcs-edges\n",
    "       \n",
    "   #  implementing the set C and while condition\n",
    "        C=set()\n",
    "        \n",
    "\n",
    "        for e in dif:\n",
    "\n",
    "            if len(noeuds(Union( edges,[e]),S )) <= k:\n",
    "               C.add(e)\n",
    "\n",
    "#print(C)\n",
    "    return  REORDER( gra,structure, edges,S  )\n",
    "\n",
    "\n",
    "def Precision_k(gra,structure, test_user_sequence, k):\n",
    "    \n",
    "    user_id, previous, left = divide_test(test_user_sequence)\n",
    "    reco = OMEGA(gra,structure,k, previous)\n",
    "    reco =[str(i) for i in reco]\n",
    "    \n",
    "    print(reco)\n",
    "    intersection = list(set(reco) & set(left) )\n",
    "    #print(intersection)\n",
    "    return (len (intersection)/k)\n",
    "\n",
    "\n",
    "\n",
    "# Our Graph Creation for a sequence (  one user  )\n",
    "def Create_OUR(test_user_sequence,z):\n",
    "\n",
    "    transitions = pk.load(open('final_matrix2', 'rb'))\n",
    "    user_id, previous, left = divide_test(test_user_sequence)\n",
    "    candidate_items = list(set(movies).difference(previous))\n",
    "    #candidate_items = left\n",
    "    gra = nx.DiGraph()\n",
    "    for j in previous:\n",
    "        gra.add_node(j)\n",
    "\n",
    "    for i in candidate_items:\n",
    "\n",
    "        gra.add_node(i)\n",
    "        gra.add_edge(i,i)\n",
    "        index_i = movie_ids[i]\n",
    "        gra[i][i]['weight'] = transitions[index_i, index_i]\n",
    "\n",
    "    last_items = previous[-z:]\n",
    "    for item in last_items:\n",
    "        index_last = movie_ids[item]\n",
    "\n",
    "        for i in candidate_items:\n",
    "            index_item = movie_ids[i]\n",
    "            gra.add_edge(item,i)\n",
    "            gra[item][i]['weight'] = transitions[ index_last,index_item]\n",
    "\n",
    "    return gra\n",
    "\n",
    "\n",
    "def worker( argument, results):\n",
    "    \n",
    "    G= nx.DiGraph()\n",
    "\n",
    "    G = Create_OUR(argument,4)\n",
    "\n",
    "    #print(G.edges(data=True))\n",
    "\n",
    "    toto = nx.DiGraph()\n",
    "\n",
    "    toto = G.copy()\n",
    "\n",
    "    toto.remove_edges_from(nx.selfloop_edges(toto,data=True))  # toto\n",
    "\n",
    "    structure = list(nx.topological_sort(toto))  # toto\n",
    "    \n",
    "     \n",
    "    results.append( Precision_k( G,structure,argument,8))\n",
    "\n",
    "\n",
    "random.seed(123)\n",
    "# In the paper, they used 500 sequences at random as a test set\n",
    "# Split sequences into training and testing\n",
    "\n",
    "def make_train_test (sequences, size):\n",
    "\n",
    "    list_shuffled = list_sequences.copy()\n",
    "    #random.shuffle(list_shuffled)\n",
    "    train_data = list_shuffled[size:]\n",
    "    test_data =list_shuffled[:size]\n",
    "    return train_data, test_data\n",
    "\n",
    "\n",
    "\n",
    "##########################\n",
    "\n",
    "def proba(sequences, list_items,topic_dict):\n",
    "    number_of_items = len(list_items)\n",
    "    matrice = np.zeros(shape=(number_of_items,number_of_items))  # to store number of occurences with respect to the threshold l\n",
    "    matrice1 = np.zeros(shape=(number_of_items,number_of_items)) # to store number of occurences\n",
    "\n",
    "    # Version of the probas without the parameter l\n",
    "    for seq in sequences:\n",
    "         items = seq[1:]\n",
    "         for i in range(len(items)-1):\n",
    "            for j in range(i+1, len(items)):\n",
    "                \n",
    "                index_i = list_items[items[i]]\n",
    "                \n",
    "                index_j = list_items[items[j]]\n",
    "                matrice[index_i][index_j] += Union_List(topic_dict[items[i]],topic_dict[items[j]])\n",
    "    \n",
    "    return matrice\n",
    "\n",
    "#Counting the occurance of an item in all the lists we have\n",
    "def frequency (train, list_items,topic_dict):\n",
    "    number_of_items = len(list_items)\n",
    "    list_count = [0]* number_of_items\n",
    "\n",
    "    for sequence in train:\n",
    "        items = sequence[1:]\n",
    "        for item in items:\n",
    "          topic=0\n",
    "          if item in list_items:\n",
    "              index_item = list_items.index(item)\n",
    "              topic=len(topic_dict[item]) \n",
    "              list_count[index_item]+=topic\n",
    "\n",
    "    for i in range(len(list_count)):\n",
    "        if list_count[i]<10:\n",
    "            list_count[i]=0\n",
    "\n",
    "    return list_count\n",
    "\n",
    "# Dividing the occurance of each item by the number of lists we have in our set of sequences\n",
    "def empirical_frequency_items(train, list_items,topic_dict):  # train: training set of sequences , items list of item ids\n",
    "\n",
    "    number_of_items = len(list_items)\n",
    "    list_count = [0]* number_of_items\n",
    "\n",
    "    for sequence in train:\n",
    "        items = sequence[1:]\n",
    "        for item in items:\n",
    "          topic=0\n",
    "          if item in list_items:\n",
    "            index_item = list_items.index(item)\n",
    "            topic=len(topic_dict[item]) \n",
    "            list_count[index_item]+=1\n",
    "\n",
    "    for i in range(len(list_count)):\n",
    "        if list_count[i]<10:\n",
    "            list_count[i]=0\n",
    "\n",
    "    return [x/len(train) for x in list_count]\n",
    "\n",
    "\n",
    "def Transition_matrix (list_sequences, movies):\n",
    "\n",
    "    matrice= pk.load(open ('proba_matrix_without_l', 'rb'))\n",
    "    # first we run Proba function to get the proba_matrix_without_l, we store it and loaod it for faster tests\n",
    "\n",
    "    final_matrix = np.zeros(shape= (len(movies), len(movies)))\n",
    "\n",
    "    frequencies = frequency(list_sequences, movies,topic_dict)\n",
    "    emp_freq = empirical_frequency_items(list_sequences, movies,topic_dict)\n",
    "    for i in range(len(movies)):\n",
    "        for j in range(len(movies)):\n",
    "            if i == j:\n",
    "                final_matrix[i,i]= emp_freq[i]\n",
    "                \n",
    "            else :\n",
    "                if frequencies[i] ==0:\n",
    "                    final_matrix[i,j]= 0\n",
    "                else:\n",
    "                    final_matrix[i,j]= matrice[i,j]/frequencies[i]\n",
    "    return final_matrix\n",
    "\n",
    "\n",
    "#####################\n",
    "\n",
    "\n",
    "\n",
    "\n",
    "\n",
    "\n",
    "\n",
    "\n",
    "##########################################\n",
    "#dividing the data into test and train\n",
    "\n",
    "train_data, test_data = make_train_test(list_sequences,150)\n",
    "\n",
    "m = proba(train_data, movie_ids,topic_dict)\n",
    "print('part2')\n",
    "pk.dump(m, open('proba_matrix_without_l','wb'))\n",
    "\n",
    "print('start')\n",
    "final_matrix = Transition_matrix(train_data, movies)\n",
    "pk.dump(final_matrix , open('final_matrix2', 'wb')) \n",
    "\n",
    "start_time = time.time()\n",
    "manager = multiprocessing.Manager()\n",
    "results = manager.list()\n",
    "\n",
    "jobs=[]\n",
    "for i in range(150):\n",
    "        p = multiprocessing.Process(target = worker, args=(test_data[i], results))\n",
    "        jobs.append(p)\n",
    "        p.start()\n",
    "\n",
    "for proc in jobs:\n",
    "    proc.join()\n",
    "print ('sum(results)/len(results)',sum(results)/len(results))\n",
    "print('whole', time.time() - start_time)"
   ]
  },
  {
   "cell_type": "code",
   "execution_count": null,
   "metadata": {
    "id": "IXE6WSkoYdGa"
   },
   "outputs": [],
   "source": [
    "#loading th results obtained from Omega Framework\n",
    "data=open('Omega_results_ds1.txt','r')\n",
    "\n",
    "data_2=data.readlines()\n",
    "results_sequences=[]\n",
    "for i in range(150):\n",
    "  line=data_2[i]\n",
    "  line_1=ast.literal_eval(line)\n",
    "  line_2=[i] + line_1\n",
    "  line_3=line_2\n",
    "  results_sequences.append(line_3)"
   ]
  },
  {
   "cell_type": "code",
   "execution_count": null,
   "metadata": {
    "colab": {
     "base_uri": "https://localhost:8080/",
     "height": 34
    },
    "executionInfo": {
     "elapsed": 701,
     "status": "ok",
     "timestamp": 1600150827366,
     "user": {
      "displayName": "Baljinder Smagh",
      "photoUrl": "",
      "userId": "16670751434212058453"
     },
     "user_tz": 240
    },
    "id": "jXi4Cwnmas7o",
    "outputId": "f929012c-14df-4c40-f497-6dda1f1011a9"
   },
   "outputs": [],
   "source": [
    "len(results_sequences)"
   ]
  },
  {
   "cell_type": "code",
   "execution_count": null,
   "metadata": {
    "id": "eKNHWWP0a_sh"
   },
   "outputs": [],
   "source": [
    "#taking corresponding sequence from the input to be used for final result\n",
    "test_sequence=list_sequences[:150]"
   ]
  },
  {
   "cell_type": "code",
   "execution_count": null,
   "metadata": {
    "id": "hM0VuoYubNrH"
   },
   "outputs": [],
   "source": [
    "#For final sequence combine the previous part of input sequence with sequence obtained from omega framework\n",
    "final_sequence=[]\n",
    "for i in range(len(test_sequence)):\n",
    "  list_1=test_sequence[i]\n",
    "  list_2=list_1[1:8]\n",
    "  #print(list_2)\n",
    "  list_3=results_sequences[i]\n",
    "  list_4=list_3[1:]\n",
    "  #print(list_4)\n",
    "  final_sequence.append(list_2 + list_4) "
   ]
  },
  {
   "cell_type": "code",
   "execution_count": null,
   "metadata": {
    "colab": {
     "base_uri": "https://localhost:8080/",
     "height": 34
    },
    "executionInfo": {
     "elapsed": 742,
     "status": "ok",
     "timestamp": 1600151088113,
     "user": {
      "displayName": "Baljinder Smagh",
      "photoUrl": "",
      "userId": "16670751434212058453"
     },
     "user_tz": 240
    },
    "id": "Wpsxv9Iybv-S",
    "outputId": "8b5ac8a8-6245-4416-ea5f-989600082b21"
   },
   "outputs": [],
   "source": [
    "len(final_sequence)"
   ]
  },
  {
   "cell_type": "code",
   "execution_count": null,
   "metadata": {
    "id": "EAScTTWcdJXw"
   },
   "outputs": [],
   "source": [
    "#saving the final results obtained\n",
    "with open('test_results_ds1.txt', 'w') as f:\n",
    "    for item in final_sequence:\n",
    "        f.write(\"%s\\n\" % item)"
   ]
  }
 ],
 "metadata": {
  "colab": {
   "authorship_tag": "ABX9TyOFWTqevEr1B8HD7/KKJohE",
   "mount_file_id": "1iYlM_y_qrjdB2R5c38QCXM1ZGI326gWf",
   "name": "Omega_stanford.ipynb",
   "provenance": []
  },
  "kernelspec": {
   "display_name": "Python 3",
   "language": "python",
   "name": "python3"
  },
  "language_info": {
   "codemirror_mode": {
    "name": "ipython",
    "version": 3
   },
   "file_extension": ".py",
   "mimetype": "text/x-python",
   "name": "python",
   "nbconvert_exporter": "python",
   "pygments_lexer": "ipython3",
   "version": "3.7.4"
  }
 },
 "nbformat": 4,
 "nbformat_minor": 1
}